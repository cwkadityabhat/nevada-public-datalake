{
 "cells": [
  {
   "cell_type": "markdown",
   "id": "b62b3837",
   "metadata": {},
   "source": [
    "## Description : \n",
    "#### Sample Notebook to read and write using amorphic utils -Pyspark\n",
    "\n"
   ]
  },
  {
   "cell_type": "markdown",
   "id": "bd389337",
   "metadata": {},
   "source": [
    "Load the pysaprk amorphic utils you created\n",
    "\n",
    "copy the path from \"Home -> Transformation -> ETL Library -> Details -> (hover over package path and click copy - use the version you need)\"\n"
   ]
  },
  {
   "cell_type": "code",
   "execution_count": 1,
   "id": "745bb1b3",
   "metadata": {},
   "outputs": [
    {
     "name": "stdout",
     "output_type": "stream",
     "text": [
      "Welcome to the Glue Interactive Sessions Kernel\n",
      "For more information on available magic commands, please type %help in any new cell.\n",
      "\n",
      "Please view our Getting Started page to access the most up-to-date information on the Interactive Sessions kernel: https://docs.aws.amazon.com/glue/latest/dg/interactive-sessions.html\n",
      "It looks like there is a newer version of the kernel available. The latest version is 1.0.7 and you have 1.0.0 installed.\n",
      "Please run `pip install --upgrade aws-glue-sessions` to upgrade your kernel\n",
      "Extra py files to be included:\n",
      "s3://nvd-us-west-2-816069158041-test-etl/common-libs/fe4b4d47-ca11-45e8-8030-1c2473c90abb/libs/python/amorphicutils-0.3.1.zip\n",
      "Trying to create a Glue session for the kernel.\n",
      "Session Type: etl\n",
      "Worker Type: G.1X\n",
      "Number of Workers: 5\n",
      "Session ID: 065933fa-3d6d-4983-a10d-026b927c2a50\n",
      "Applying the following default arguments:\n",
      "--glue_kernel_version 1.0.0\n",
      "--enable-glue-datacatalog true\n",
      "--extra-py-files s3://nvd-us-west-2-816069158041-test-etl/common-libs/fe4b4d47-ca11-45e8-8030-1c2473c90abb/libs/python/amorphicutils-0.3.1.zip\n",
      "Waiting for session 065933fa-3d6d-4983-a10d-026b927c2a50 to get into ready status...\n",
      "Session 065933fa-3d6d-4983-a10d-026b927c2a50 has been created.\n",
      "\n"
     ]
    }
   ],
   "source": [
    "%extra_py_files s3://nvd-us-west-2-816069158041-test-etl/common-libs/fe4b4d47-ca11-45e8-8030-1c2473c90abb/libs/python/amorphicutils-0.3.1.zip\n",
    "    "
   ]
  },
  {
   "cell_type": "markdown",
   "id": "c61711cb",
   "metadata": {},
   "source": [
    "### Import all the essential packages"
   ]
  },
  {
   "cell_type": "code",
   "execution_count": 2,
   "id": "4ab66037",
   "metadata": {},
   "outputs": [
    {
     "name": "stdout",
     "output_type": "stream",
     "text": [
      "JOB_NAME not available as args.\n"
     ]
    }
   ],
   "source": [
    "import sys\n",
    "import time\n",
    "import pandas as pd\n",
    "import logging\n",
    "from awsglue.utils import getResolvedOptions\n",
    "from pyspark.sql.functions import lit, col, concat\n",
    "from amorphicutils.common import read_param_store\n",
    "from amorphicutils.pyspark.infra.gluespark import GlueSpark\n",
    "from amorphicutils.pyspark import read\n",
    "from amorphicutils.pyspark import write"
   ]
  },
  {
   "cell_type": "code",
   "execution_count": 5,
   "id": "c61b1a88",
   "metadata": {},
   "outputs": [
    {
     "name": "stdout",
     "output_type": "stream",
     "text": [
      "\n"
     ]
    }
   ],
   "source": [
    "logging.basicConfig(level=\"INFO\")\n",
    "LOGGER = logging.getLogger()\n",
    "LOGGER.setLevel(logging.INFO)"
   ]
  },
  {
   "cell_type": "code",
   "execution_count": 6,
   "id": "bb285eb1",
   "metadata": {},
   "outputs": [
    {
     "name": "stdout",
     "output_type": "stream",
     "text": [
      "JOB_NAME not available as args.\n"
     ]
    }
   ],
   "source": [
    "glue_spark = GlueSpark()\n",
    "glue_context = glue_spark.get_glue_context()\n",
    "spark = glue_spark.get_spark()"
   ]
  },
  {
   "cell_type": "code",
   "execution_count": 7,
   "id": "7ae36388",
   "metadata": {},
   "outputs": [
    {
     "name": "stdout",
     "output_type": "stream",
     "text": [
      "\n"
     ]
    }
   ],
   "source": [
    "def get_param_value(param_store_key, secure=False):\n",
    "    \"\"\"Function to read parameters from parameters store\"\"\"\n",
    "    LOGGER.info(\n",
    "        \"In get_param_value, Fetching values stored  in %s, IsSecure : %s\",\n",
    "        param_store_key,\n",
    "        secure,\n",
    "    )\n",
    "    param_value_response = read_param_store(param_store_key, secure=secure)\n",
    "    if param_value_response[\"exitcode\"] == 1:\n",
    "        LOGGER.error(\n",
    "            \"Failed to get value for parameter {} with error {}.\".format(\n",
    "                param_store_key, param_value_response[\"message\"]\n",
    "            )\n",
    "        )\n",
    "        raise Exception(\n",
    "            \"Failed to get value for parameter {} with error {}.\".format(\n",
    "                param_store_key, param_value_response[\"message\"]\n",
    "            )\n",
    "        )\n",
    "    else:\n",
    "        return param_value_response[\"data\"]"
   ]
  },
  {
   "cell_type": "markdown",
   "id": "75eac601",
   "metadata": {},
   "source": [
    "### Configure below Variables"
   ]
  },
  {
   "cell_type": "code",
   "execution_count": 9,
   "id": "13f71b8a",
   "metadata": {},
   "outputs": [
    {
     "name": "stdout",
     "output_type": "stream",
     "text": [
      "\n"
     ]
    }
   ],
   "source": [
    "user_id = \"harsha\"  # Your Login UserId with access to write\n",
    "\n",
    "# Replace below if you have different Domain to to Read from\n",
    "r_domain = \"bronzehealth\"\n",
    "# Replace this if you have different Domain to write into.\n",
    "w_domain = \"silverhealth\"\n",
    "# Replace this if you created new Dataset to Read from.\n",
    "r_dataset = \"Immunization\" \n",
    "# Replace this if you created new Dataset to write into.\n",
    "w_dataset = \"Immunization_Staged\" "
   ]
  },
  {
   "cell_type": "code",
   "execution_count": 10,
   "id": "a5ae7874",
   "metadata": {},
   "outputs": [
    {
     "name": "stdout",
     "output_type": "stream",
     "text": [
      "This my secure parameter store value\n"
     ]
    }
   ],
   "source": [
    "# LZ Bucket is Output Bucket  # DLZ Bucket is Input Bucket\n",
    "\n",
    "lz_bucket = get_param_value(param_store_key=\"SYSTEM.S3BUCKET.LZ\")\n",
    "dlz_bucket = get_param_value(param_store_key=\"SYSTEM.S3BUCKET.DLZ\")\n",
    "\n",
    "my_param = get_param_value(\n",
    "    param_store_key=\"nvd-sample-parm-harsha\", secure=True\n",
    ")  # Replace param_store_key with your paramstore name\n",
    "print(my_param)"
   ]
  },
  {
   "cell_type": "markdown",
   "id": "edcf641d",
   "metadata": {},
   "source": [
    "#### Instantiate Amorphic Reader and Writer Class"
   ]
  },
  {
   "cell_type": "code",
   "execution_count": 11,
   "id": "36af2c64",
   "metadata": {},
   "outputs": [
    {
     "name": "stdout",
     "output_type": "stream",
     "text": [
      "\n"
     ]
    }
   ],
   "source": [
    "amporphic_reader = read.Read(dlz_bucket, spark)\n",
    "amorphic_writer = write.Write(lz_bucket, glue_context)"
   ]
  },
  {
   "cell_type": "markdown",
   "id": "4a845a81",
   "metadata": {},
   "source": [
    "## Read Dataset"
   ]
  },
  {
   "cell_type": "code",
   "execution_count": 13,
   "id": "0fae2431",
   "metadata": {},
   "outputs": [
    {
     "name": "stdout",
     "output_type": "stream",
     "text": [
      "Successfully loaded s3 data into spark dataframe\n"
     ]
    }
   ],
   "source": [
    "response = amporphic_reader.read_csv_data(r_domain, r_dataset, header=True)\n",
    "print(response['message'])\n"
   ]
  },
  {
   "cell_type": "code",
   "execution_count": 18,
   "id": "7ef9388e",
   "metadata": {},
   "outputs": [
    {
     "name": "stdout",
     "output_type": "stream",
     "text": [
      "+------------------------------------+-----------------+---------+\n",
      "|client_id                           |client_first_name|status   |\n",
      "+------------------------------------+-----------------+---------+\n",
      "|00901a88-59b2-44cc-a0b0-9aa7e8842487|Saltzman327      |Completed|\n",
      "|03b86e36-59f5-4db3-af08-91231dbfdaf6|Washington743    |Completed|\n",
      "|069335e0-addd-4969-b76e-3b8845474f54|Johnson823       |Completed|\n",
      "|06e441e3-2ed3-4f08-b308-b2896aa78118|Nguyen378        |Completed|\n",
      "|07d57b08-d37f-4514-a701-3c2f76a4e061|Numakair234      |Completed|\n",
      "+------------------------------------+-----------------+---------+\n",
      "only showing top 5 rows\n"
     ]
    }
   ],
   "source": [
    "if response[\"exitcode\"] == 0:\n",
    "    df_data = response[\"data\"]\n",
    "    df_data.select('client_id','client_first_name','status').show(5,truncate=False)"
   ]
  },
  {
   "cell_type": "markdown",
   "id": "5b8e807c",
   "metadata": {},
   "source": [
    "### Transformation\n",
    "##### Derive new column - client_full_name"
   ]
  },
  {
   "cell_type": "code",
   "execution_count": 19,
   "id": "a9aeadf9",
   "metadata": {},
   "outputs": [
    {
     "name": "stdout",
     "output_type": "stream",
     "text": [
      "\n"
     ]
    }
   ],
   "source": [
    "df_copy = df_data.withColumn(\n",
    "        \"client_full_name\",\n",
    "        concat(col(\"client_first_name\"), lit(\" \"), col(\"client_last_name\")),\n",
    "    ).withColumn(\n",
    "        \"Address\",\n",
    "        concat(\n",
    "            lit(\"Apt \"),\n",
    "            col(\"apartment\").cast(\"string\"),\n",
    "            lit(\" St \"),\n",
    "            col(\"street_number\").cast(\"string\"),\n",
    "            lit(\" \"),\n",
    "            col(\"primary_direction\"),\n",
    "            lit(\" \"),\n",
    "            col(\"street_name\"),\n",
    "            lit(\" \"),\n",
    "            col(\"street_type\"),\n",
    "            lit(\" \"),\n",
    "            col(\"secondary_direction\"),\n",
    "            lit(\" Post \"),\n",
    "            col(\"po_box\").cast(\"string\"),\n",
    "            lit(\" \"),\n",
    "            col(\"city\"),\n",
    "            col(\"state\"),\n",
    "            lit(\" ZIP: \"),\n",
    "            col(\"zip_code\").cast(\"string\"),\n",
    "        ),\n",
    "    )"
   ]
  },
  {
   "cell_type": "code",
   "execution_count": 21,
   "id": "8e6e877b",
   "metadata": {},
   "outputs": [
    {
     "name": "stdout",
     "output_type": "stream",
     "text": [
      "\n"
     ]
    }
   ],
   "source": [
    "# Drop unwanted columns\n",
    "drop_col_list = [\"client_first_name\", \"client_last_name\", \"client_suffix\", \"client_age\", \"client_alias_last_name\", \"client_alias_first_name\", \"client_alias_middle_name\", \"client_marital_status\", \"primary_race\", \"race_2\", \"race_3\", \"race_4\", \"race_5\", \"ethnicity\", \"client_ssn\", \"primary_care_first_name\", \"primary_care_middle_name\", \"primary_care_last_name\", \"primary_care_suffix\", \"patient_program_close_date\", \"patient_program_close_reason\", \"mother_maiden_name\", \"patient_notes\", \"street_number\", \"primary_direction\", \"street_name\", \"street_type\", \"secondary_direction\", \"po_box\", \"apartment\", \"city\", \"state\", \"zip_code\", \"primary_contact_last_name\", \"primary_contact_first_name\", \"primary_contact_relationship_type\", \"primary_contact_home_phone\", \"primary_contact_cell_phone\", \"primary_contact_work_phone\", \"patient_precautions_contraindications_type\", \"precautions_contraindications_effective_date\", \"lot_number\", \"administration_site\", \"observation_period\", \"reaction\", \"status\", \"administered_indicator\", \"administered_by\", \"administered_at\", \"dose_sequence\"]\n",
    "df_copy = df_copy.drop(*drop_col_list)"
   ]
  },
  {
   "cell_type": "markdown",
   "id": "4306407a",
   "metadata": {},
   "source": [
    "### Write to Dataset"
   ]
  },
  {
   "cell_type": "code",
   "execution_count": 23,
   "id": "a0b6d76b",
   "metadata": {},
   "outputs": [
    {
     "name": "stdout",
     "output_type": "stream",
     "text": [
      "Successfully saved data to s3.\n"
     ]
    }
   ],
   "source": [
    "response = amorphic_writer.write_csv_data(\n",
    "        df_copy.coalesce(1), w_domain, w_dataset, user=user_id, full_reload=False\n",
    "    )\n",
    "print(response['message'])"
   ]
  },
  {
   "cell_type": "code",
   "execution_count": null,
   "id": "68e591b0",
   "metadata": {},
   "outputs": [],
   "source": []
  },
  {
   "cell_type": "code",
   "execution_count": 4,
   "id": "bdb2e1ec",
   "metadata": {},
   "outputs": [
    {
     "name": "stdout",
     "output_type": "stream",
     "text": [
      "Stopping session: 065933fa-3d6d-4983-a10d-026b927c2a50\n",
      "Stopped session.\n"
     ]
    }
   ],
   "source": [
    "%stop_session"
   ]
  },
  {
   "cell_type": "code",
   "execution_count": null,
   "id": "26b24b41",
   "metadata": {},
   "outputs": [],
   "source": []
  }
 ],
 "metadata": {
  "kernelspec": {
   "display_name": "conda_glue_pyspark",
   "language": "python",
   "name": "conda-env-glue_pyspark-glue_pyspark"
  },
  "language_info": {
   "codemirror_mode": {
    "name": "python",
    "version": 3
   },
   "file_extension": ".py",
   "mimetype": "text/x-python",
   "name": "Python_Glue_Session",
   "pygments_lexer": "python3"
  }
 },
 "nbformat": 4,
 "nbformat_minor": 5
}
